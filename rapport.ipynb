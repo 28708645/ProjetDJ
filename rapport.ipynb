{
 "cells": [
  {
   "cell_type": "code",
   "execution_count": 2,
   "id": "883d1d77",
   "metadata": {},
   "outputs": [],
   "source": [
    "from projet import *\n",
    "from time import *\n",
    "import numpy as np\n",
    "import random\n",
    "from functools import reduce\n",
    "from copy import deepcopy"
   ]
  },
  {
   "cell_type": "markdown",
   "id": "171afc90",
   "metadata": {},
   "source": [
    "# Rapport projet : Jeu séquentiel et stratégie en Python"
   ]
  },
  {
   "cell_type": "markdown",
   "id": "ef7adf8f",
   "metadata": {},
   "source": [
    "- NODA Romain n°28720263\n",
    "- ROIG Thomas n°28708645"
   ]
  },
  {
   "cell_type": "markdown",
   "id": "256adff5",
   "metadata": {},
   "source": [
    "## Description\n",
    "\n",
    "Le projet consiste à tester les performances de différentes stratégies pour un jeu séquentiel, à somme nul et à information complète. \n",
    "\n",
    "Dans ce projet on utilise le jeu du Morpion et le jeu des allumettes et 3 stratégies: aléatoire, minimax et optimale pour le jeu des allumettes(Grundy)."
   ]
  },
  {
   "cell_type": "markdown",
   "id": "75a8e746",
   "metadata": {},
   "source": [
    "## Implémentation"
   ]
  },
  {
   "cell_type": "markdown",
   "id": "c8721d3f",
   "metadata": {},
   "source": [
    "### JeuSequentiel\n",
    "\n",
    "Les jeux qu'on a implémenté sont hérités à partir de cette classe abstraite\n",
    "\n",
    "Il contient comme attribut:\n",
    "- Config : un dictionnaire où on stoque le plateur du jeu, le nombre de coup joué, le joueur courant et l'historique des coups joués\n",
    "- egalite : une variable booléenne utilisé comme flag pour savoir s'il y a égalité ou pas\n",
    "\n",
    "et comme fonctions (qui seront redéfini):\n",
    "- `joueurCourant(C)` : retourne le joueur courant\n",
    "- `changeJoueur(C)` : change le joueur qui joue\n",
    "- `afficheJeu()` : fonction pour afficher le plateau du jeu\n",
    "- `f1(C)` : fonction d'évaluation\n",
    "- `coupsPossibles(C)` : fonction qui retourne les coups possibles\n",
    "- `joueLeCoup(C, coup)` : fonction qui permet de jouer un coup\n",
    "- `estFini(C)` : vérifie si le jeu est fini\n",
    "- `getGagnant(C)` : retourne le gagnant du jeu"
   ]
  },
  {
   "cell_type": "markdown",
   "id": "bba601cd",
   "metadata": {},
   "source": [
    "### Morpion\n",
    "\n",
    "Le jeu est représenté par un tableau de 3x3, si le joueur 1 (resp. joueur 2) à joué dans une case alors la case vaut 1 (2), sinon la case est vide et vaut 0. \n",
    "\n",
    "Les fonctions implémentées:\n",
    "- `coupsPossible(C)` : rend la liste des coups possibles, un coup est représenté par un tuple de i, j;\n",
    "- `afficheJeu()` : affiche le jeu avec des ronds (O) et des croix (X);\n",
    "- `f1(C)` : fonction d'évaluation pour le Morpion, retourne la somme des évaluations en ligne, en colonne et en diagonale;\n",
    "- `eval_ligne(C)`/`eval_colonne(C)`/`eval_diagonale(C)` : fonction d'évaluation en ligne/colonne/diagonale:\n",
    "    - s'il existe qu'un seul 1 alors la ligne/colonne/diagonale est évalué à 1;\n",
    "    - s'il existe que deux 1 alors la ligne/colonne/diagonale est évalué à 3;\n",
    "    - s'il existe qu'un seul 2 alors la ligne/colonne/diagonale est évalué à -2;\n",
    "    - s'il existe que deux 1 alors la ligne/colonne/diagonale est évalué à -6;\n",
    "- `joueLeCoup(C, coup)` : retourne la configuration après avoir joué le coup;\n",
    "- `estFini(C)` : fonction qui vérifie si le jeu est fini;\n",
    "- `estGagnant(C)` : fonction qui vérifie qui a gagné;\n"
   ]
  },
  {
   "cell_type": "markdown",
   "id": "a07415a1",
   "metadata": {},
   "source": [
    "### Allumettes\n",
    "\n",
    "Le jeu est représenté par une liste de taille g, initialisé par m dans toutes les cases. (g étant le nombre de groupe, m le nombre d'allumettes dans chaque groupe)\n",
    "\n",
    "Les fonctions implémentées:\n",
    "- `coupsPossible(C)` : rend la liste des coups possibles, un coup est représenté par un tuple de i, j pour représenter qu'on prend j allumettes du groupe i;\n",
    "- `afficheJeu()` : affiche combien d'allumettes restes dans chaque groupe\n",
    "- `f1(C)` : fonction d'évaluation pour le jeu des allumettes, utilise le théorème de Sprague-Grundy pour calculer l'état d'un jeu\n",
    "On change en binaire le nombre d'allumettes restantes pour chaque groupe et on fait le XOR de tous ces valeurs. Si la valeur est 0 c'est un noyau.\n",
    "- `joueLeCoup(C, coup)` : retourne la configuration après avoir joué le coup;\n",
    "- `estFini(C)` : fonction qui vérifie si le jeu est fini;"
   ]
  },
  {
   "cell_type": "markdown",
   "id": "721de5f6",
   "metadata": {},
   "source": [
    "###  StrategieAleatoire\n",
    "\n",
    "Une stratégie qui choisi un coup aléatoirement depuis la liste des coups possibles."
   ]
  },
  {
   "cell_type": "markdown",
   "id": "f2f18cc6",
   "metadata": {},
   "source": [
    "### StrategieHumaine\n",
    "\n",
    "Une stratégie pour débuguer et jouer."
   ]
  },
  {
   "cell_type": "markdown",
   "id": "b70db948",
   "metadata": {},
   "source": [
    "### StrategieMiniMax\n",
    "\n",
    "Une stratégie qui simule les k coups suivants pour prendre décision d'un coup. (k étant un entier)\n",
    "\n",
    "Les fonctions implémentées:\n",
    "- `choisirProchainCoup(C)` : retourne le coup choisi\n",
    "- `decision(C, listecoup, profondeur, joueur)` : calcule le gain pour chacun des coups possibles et retourne le coup qui rend le plus\n",
    "- `estimation(C, coup, tour, joueur, profondeur)` : simule les k coups à partir du coup choisi\n",
    "- `evaluation(C, tour)` : retourne l'évaluation de la configuration donnée"
   ]
  },
  {
   "cell_type": "markdown",
   "id": "5d910068",
   "metadata": {},
   "source": [
    "### StrategieAllumettes\n",
    "\n",
    "Une stratégie optimal pour le jeu des allumettes, utilise le théorème et la fonction de Grundy.\n",
    "\n",
    "Lors de l'initalisation, il construit l'arbre complètes des états et calcule les valeurs de chaque état selon Grundy.\n",
    "\n",
    "Les fonctions implémentées:\n",
    "- `choisirProchainCoup(C)` : retourne le coup qui entre dans le noyau s'il existe, sinon choisi aléatoirement un coup."
   ]
  },
  {
   "cell_type": "markdown",
   "id": "c984f70d",
   "metadata": {},
   "source": [
    "## Lancement d'un jeu\n",
    "pour lancer une partie on utilise la fonction suivante :\n",
    "\n",
    "`unepartie(nomJeu,strategie1=StrategieAleatoire,strategie2=StrategieAleatoire, Affichage=False)`\n",
    "\n",
    "on définit aussi des paramètres globaux pour les divers jeux avec m et g pour les Allumettes\n",
    "et les profondeurs pour les joueurs MinMax."
   ]
  },
  {
   "cell_type": "code",
   "execution_count": 21,
   "id": "8b8204e1",
   "metadata": {},
   "outputs": [],
   "source": [
    "profondeur1=2\n",
    "profondeur2=2\n",
    "g=4\n",
    "m=7"
   ]
  },
  {
   "cell_type": "code",
   "execution_count": 22,
   "id": "44d298a4",
   "metadata": {},
   "outputs": [],
   "source": [
    "def unepartie(nomJeu,strategie1=StrategieAleatoire,strategie2=StrategieAleatoire, Affichage=False):\n",
    "    if(nomJeu==\"Morpion\"):\n",
    "        Jeu = Morpion()\n",
    "    if(nomJeu==\"Allumettes\"):\n",
    "        Jeu = Allumettes(g,m)\n",
    "    else:\n",
    "        Jeu = Morpion()\n",
    "    \n",
    "    if strategie1 == StrategieMiniMax:\n",
    "        joueur1=strategie1(Jeu, profondeur1)\n",
    "    else:\n",
    "        joueur1=strategie1(Jeu)\n",
    "    if strategie2 == StrategieMiniMax:\n",
    "        joueur2=strategie2(Jeu, profondeur2)\n",
    "    else:\n",
    "        joueur2=strategie2(Jeu)\n",
    "    conf= Jeu.Config\n",
    "    while(not Jeu.estFini(conf)):\n",
    "        Ccopy=conf.copy()\n",
    "        jCourant=Ccopy[\"Courant\"]\n",
    "        if(jCourant==1):\n",
    "            nextCoup=joueur1.choisirProchainCoup(Ccopy)\n",
    "        else:\n",
    "            nextCoup=joueur2.choisirProchainCoup(Ccopy)\n",
    "        Ccopy=Jeu.joueLeCoup(Ccopy,nextCoup)\n",
    "        conf=Ccopy\n",
    "        Jeu.Config=conf\n",
    "        conf=Jeu.Config\n",
    "        if(Affichage):\n",
    "            print(\"TOUR DU JOUEUR \"+str(jCourant))\n",
    "            print(\"coup joue : \",nextCoup)\n",
    "            Jeu.afficheJeu()\n",
    "    \n",
    "    if(Affichage):\n",
    "        Jeu.afficheJeu()\n",
    "    if(not Jeu.egalite):\n",
    "        winner=Jeu.Config[\"Courant\"]\n",
    "    else:\n",
    "        winner=0\n",
    "    if(Affichage):\n",
    "        if(not Jeu.egalite):\n",
    "            print (\"Vainqueur J\"+str(winner))\n",
    "        else:\n",
    "            print (\"Match Nul\")\n",
    "    return winner,Jeu.Config"
   ]
  },
  {
   "cell_type": "markdown",
   "id": "61b9a410",
   "metadata": {},
   "source": [
    "De plus on ajoute une autre fonction afin de lancer plusieurs parties en une.\n",
    "Cette fonction va effectuer __n x 2__ parties pour vérifier les performances de la strategie1 en joueur 1 et en joueur 2 afin d'éviter des évaluations favorable qu'en commençant en tant que premier joueur."
   ]
  },
  {
   "cell_type": "code",
   "execution_count": 4,
   "id": "b408a23a",
   "metadata": {},
   "outputs": [],
   "source": [
    "def nparties (nomJeu,nbparties,strategie1=StrategieAleatoire,strategie2=StrategieAleatoire,AfficheMin=False,AfficheMax=False):\n",
    "    #Victoires j1,j2\n",
    "    #  [N,V,D]\n",
    "    j1=[0,0,0]\n",
    "    for i in range(0,nbparties):\n",
    "        win,conf=unepartie(nomJeu,strategie1,strategie2,AfficheMax)\n",
    "        if(AfficheMin):\n",
    "            print(\"partie \",i+1,\" finie J1\")\n",
    "        j1[win]+=1\n",
    "    if(AfficheMin):\n",
    "        print(\"J1 a fait \"+str(j1[1])+\"/\"+str(nbparties)+\" Victoire(s), \"+str(j1[2])+\"/\"+str(nbparties)+\" Defaite(s), \"+str(j1[0])+\"/\"+str(nbparties)+\" Nul(s) en J1\")\n",
    "    j2=[0,0,0]\n",
    "    for i in range(0,nbparties):\n",
    "        win,_=unepartie(nomJeu,strategie2,strategie1,AfficheMax)\n",
    "        if(AfficheMin):\n",
    "            print(\"partie \",i+1,\" finie J2\")\n",
    "        j2[win]+=1\n",
    "    if(AfficheMin):\n",
    "        print(\"J1 a fait \"+str(j2[2])+\"/\"+str(nbparties)+\" Victoire(s), \"+str(j2[1])+\"/\"+str(nbparties)+\" Defaite(s), \"+str(j2[0])+\"/\"+str(nbparties)+\" Nul(s) en position de J2\")\n",
    "    return j1,j2"
   ]
  },
  {
   "cell_type": "markdown",
   "id": "28207d83",
   "metadata": {},
   "source": [
    "Pour tester le temps d'exécution de chaque joueur on utilise la fonction suivante :\n",
    "\n",
    "`tempExecSurUnepartie(nomJeu,strategie1=StrategieAleatoire,strategie2=StrategieAleatoire,Affichage=False,AffichageTemps=False)`\n",
    "\n",
    "La fonction va evaluer le temps de la partie et indiquer pour chaque joueur le temps moyen de réflexion.\n",
    "Dans le cadre d'un joueur utilisant Grundy on donne aussi le temps pris pour générer le graphe des états et calculer les valeurs en fonction de Grundy. "
   ]
  },
  {
   "cell_type": "code",
   "execution_count": 5,
   "id": "ea0aeb5a",
   "metadata": {},
   "outputs": [],
   "source": [
    "def tempExecSurUnepartie(nomJeu,strategie1=StrategieAleatoire,strategie2=StrategieAleatoire,Affichage=False,AffichageTemps=False):\n",
    "    if(nomJeu==\"Morpion\"):\n",
    "        Jeu = Morpion()\n",
    "    if(nomJeu==\"Allumettes\"):\n",
    "        Jeu = Allumettes(g,m)\n",
    "    else:\n",
    "        Jeu = Morpion()\n",
    "    \n",
    "    chrono_Grundy1=0.0\n",
    "    chrono_Grundy2=0.0\n",
    "    if strategie1 == StrategieMiniMax:\n",
    "        joueur1=strategie1(Jeu, profondeur1)\n",
    "    elif(strategie1== StrategieAllumettes):\n",
    "        if(nomJeu != \"Allumettes\"):\n",
    "            raise Exception(\"StrategieAllumettes utilisable que dans jeu Allumettes\")\n",
    "        chrono_Grundy_debut1=time()\n",
    "        joueur1=strategie1(Jeu)\n",
    "        chrono_Grundy_fin1=time()\n",
    "        chrono_Grundy1=(chrono_Grundy_fin1-chrono_Grundy_debut1)\n",
    "    else:\n",
    "        joueur1=strategie1(Jeu)\n",
    "    if strategie2 == StrategieMiniMax:\n",
    "        joueur2=strategie2(Jeu, profondeur2)\n",
    "    elif(strategie2== StrategieAllumettes):\n",
    "        if(nomJeu != \"Allumettes\"):\n",
    "            raise Exception(\"StrategieAllumettes utilisable que dans jeu Allumettes\")\n",
    "        chrono_Grundy_debut2=time()\n",
    "        joueur2=strategie2(Jeu)\n",
    "        chrono_Grundy_fin2=time()  \n",
    "        chrono_Grundy2=(chrono_Grundy_fin2-chrono_Grundy_debut2)  \n",
    "    else:\n",
    "        joueur2=strategie2(Jeu)\n",
    "    conf= Jeu.Config\n",
    "    chrono_List1=[]\n",
    "    chrono_List2=[]\n",
    "\n",
    "    chrono_partie_debut=time()\n",
    "    while(not Jeu.estFini(conf)):\n",
    "        Ccopy=conf.copy()\n",
    "        jCourant=Ccopy[\"Courant\"]\n",
    "        if(jCourant==1):\n",
    "            ###\n",
    "            chrono_debut1=time()\n",
    "            nextCoup=joueur1.choisirProchainCoup(Ccopy)\n",
    "            chrono_fin1=time()\n",
    "            chrono_List1.append(chrono_fin1-chrono_debut1)\n",
    "            ###\n",
    "        else:\n",
    "            chrono_debut2=time()\n",
    "            nextCoup=joueur2.choisirProchainCoup(Ccopy)\n",
    "            chrono_fin2=time()\n",
    "            chrono_List2.append(chrono_fin2-chrono_debut2)\n",
    "        Ccopy=Jeu.joueLeCoup(Ccopy,nextCoup)\n",
    "        conf=Ccopy\n",
    "        Jeu.Config=conf\n",
    "        conf=Jeu.Config\n",
    "        if(Affichage):\n",
    "            print(\"TOUR DU JOUEUR \"+str(jCourant))\n",
    "            Jeu.afficheJeu()\n",
    "    ###\n",
    "    chrono_partie_fin=time()\n",
    "    if(Affichage):\n",
    "        Jeu.afficheJeu()\n",
    "\n",
    "    # Selection gagnant\n",
    "    if(not Jeu.egalite):\n",
    "        winner=Jeu.Config[\"Courant\"]\n",
    "    else:\n",
    "        winner=0\n",
    "    \n",
    "    #Traitement temps\n",
    "    tab1=np.array(chrono_List1)\n",
    "    tab2=np.array(chrono_List2)\n",
    "    mean1=np.mean(tab1)\n",
    "    mean2=np.mean(tab2)\n",
    "\n",
    "    if(AffichageTemps):\n",
    "        print(\"Temps de la partie : \",(chrono_partie_fin-chrono_partie_debut),\" secondes\")\n",
    "        print(\"Nb coups joues : \", len(Jeu.Config[\"History\"]),\" coups\")\n",
    "        print(\"Temps moyen de reflexion pour joueur 1 : \",mean1,\" secondes\")\n",
    "        if((strategie1==StrategieAllumettes) and (nomJeu==\"Allumettes\") ):\n",
    "            print(\"Temps de construction du Grundy pour joueur 1 :\", chrono_Grundy1,\" secondes\")\n",
    "        print(\"Temps moyen de reflexion pour joueur 2 : \",mean2,\" secondes\")\n",
    "        if((strategie2==StrategieAllumettes) and (nomJeu==\"Allumettes\") ):\n",
    "            print(\"Temps de construction du Grundy pour joueur 2 :\", chrono_Grundy2,\" secondes\")\n",
    "    #Jeu.afficheJeu()\n",
    "    return winner,Jeu.Config"
   ]
  },
  {
   "cell_type": "markdown",
   "id": "dc298d7b",
   "metadata": {},
   "source": [
    "On ajoute à cela la fonction ci-dessous\n",
    "\n",
    "`faceoff(nomJeu,nbparties,strategie1=StrategieAleatoire,listAdv=[StrategieAleatoire],strat1Str=\"\",advStr=[\"StrategieAleatoire\"],AfficheMin=False,AfficheMax=False)`\n",
    "\n",
    "Cette fonction permet de tester les performances d'un joueur donné face à différents adversaires\n"
   ]
  },
  {
   "cell_type": "code",
   "execution_count": 9,
   "id": "31833e90",
   "metadata": {},
   "outputs": [],
   "source": [
    "def faceoff(nomJeu,nbparties,strategie1=StrategieAleatoire,listAdv=[StrategieAleatoire],strat1Str=\"\",advStr=[\"StrategieAleatoire\"],AfficheMin=False,AfficheMax=False):\n",
    "    \n",
    "    for i in range(len(listAdv)):\n",
    "        adversaire=listAdv[i]\n",
    "        adversaireNom=advStr[i]\n",
    "        j1,j2=nparties(nomJeu,nbparties,strategie1,adversaire,AfficheMin,AfficheMax)\n",
    "        print(\"+----- Faceoff du \",strat1Str,\" sur le \",nomJeu,\" -----+\")\n",
    "        print(\"+----- \",strat1Str,\" VS \",adversaireNom, \" -----+\")\n",
    "        print(strat1Str, \" Victoire(s) : \",j1[1],\"/\",nbparties,\" Defaite(s) : \",j1[2],\"/\",nbparties,\" Nul(s) : \",j1[0],\"/\",nbparties,\" en position de J1\")\n",
    "        print(strat1Str, \" Victoire(s) : \",j2[2],\"/\",nbparties,\" Defaite(s) : \",j2[1],\"/\",nbparties,\" Nul(s) : \",j2[0],\"/\",nbparties,\" en position de J2\")\n",
    "        print(\"+------------------------------------------------+\")\n",
    "    return"
   ]
  },
  {
   "cell_type": "markdown",
   "id": "ebedcc44",
   "metadata": {},
   "source": [
    "## Simulations\n",
    "\n",
    "### Morpion"
   ]
  },
  {
   "cell_type": "code",
   "execution_count": 11,
   "id": "4accc46e",
   "metadata": {},
   "outputs": [],
   "source": [
    "game=\"Morpion\"  \n",
    "listAdversaires= [StrategieAleatoire,StrategieMiniMax]\n",
    "adversairesNoms=[\"StrategieAleatoire\",\"StrategieMiniMax\"]"
   ]
  },
  {
   "cell_type": "markdown",
   "id": "54289ad0",
   "metadata": {},
   "source": [
    "#### Aléatoire vs Aléatoire temps d'exec et performances face à Aléatoire et Minimax 2"
   ]
  },
  {
   "cell_type": "code",
   "execution_count": 23,
   "id": "7693cb3d",
   "metadata": {},
   "outputs": [
    {
     "name": "stdout",
     "output_type": "stream",
     "text": [
      "Temps de la partie :  0.0  secondes\n",
      "Nb coups joues :  9  coups\n",
      "Temps moyen de reflexion pour joueur 1 :  0.0  secondes\n",
      "Temps moyen de reflexion pour joueur 2 :  0.0  secondes\n"
     ]
    }
   ],
   "source": [
    "winner, configFinale = tempExecSurUnepartie(game,strategie1=StrategieAleatoire,strategie2=StrategieAleatoire,AffichageTemps=True)"
   ]
  },
  {
   "cell_type": "code",
   "execution_count": 24,
   "id": "921de981",
   "metadata": {},
   "outputs": [
    {
     "name": "stdout",
     "output_type": "stream",
     "text": [
      "+----- Faceoff du  StrategieAleatoire  sur le  Morpion  -----+\n",
      "+-----  StrategieAleatoire  VS  StrategieAleatoire  -----+\n",
      "StrategieAleatoire  Victoire(s) :  8 / 20  Defaite(s) :  8 / 20  Nul(s) :  4 / 20  en position de J1\n",
      "StrategieAleatoire  Victoire(s) :  5 / 20  Defaite(s) :  13 / 20  Nul(s) :  2 / 20  en position de J2\n",
      "+------------------------------------------------+\n",
      "+----- Faceoff du  StrategieAleatoire  sur le  Morpion  -----+\n",
      "+-----  StrategieAleatoire  VS  StrategieMiniMax  -----+\n",
      "StrategieAleatoire  Victoire(s) :  0 / 20  Defaite(s) :  16 / 20  Nul(s) :  4 / 20  en position de J1\n",
      "StrategieAleatoire  Victoire(s) :  0 / 20  Defaite(s) :  19 / 20  Nul(s) :  1 / 20  en position de J2\n",
      "+------------------------------------------------+\n"
     ]
    }
   ],
   "source": [
    "nbparties =20\n",
    "faceoff(game,nbparties,strategie1=StrategieAleatoire,listAdv=listAdversaires,strat1Str=\"StrategieAleatoire\",advStr=adversairesNoms,AfficheMin=False,AfficheMax=False)"
   ]
  },
  {
   "cell_type": "markdown",
   "id": "365511a7",
   "metadata": {},
   "source": [
    "Le jeu semble à l'avantage du joueur 1 car on peut noter un plus grand nombre de victoire face à un autre joueur aléatoire et surtout un plus grand nombre de nul face à un Minimax qui est déterministe contrairement à l'aléatoire"
   ]
  },
  {
   "cell_type": "markdown",
   "id": "af0e834d",
   "metadata": {},
   "source": [
    "#### Minimax 2,3,4,5 vs Aléatoire temps d'exec "
   ]
  },
  {
   "cell_type": "code",
   "execution_count": 19,
   "id": "946e54c3",
   "metadata": {},
   "outputs": [
    {
     "name": "stdout",
     "output_type": "stream",
     "text": [
      "Profondeur Minimax =  2\n",
      "Temps de la partie :  0.05501294136047363  secondes\n",
      "Nb coups joues :  9  coups\n",
      "Temps moyen de reflexion pour joueur 1 :  0.011002588272094726  secondes\n",
      "Temps moyen de reflexion pour joueur 2 :  0.0  secondes\n",
      "\n",
      "Profondeur Minimax =  3\n",
      "Temps de la partie :  0.2540559768676758  secondes\n",
      "Nb coups joues :  7  coups\n",
      "Temps moyen de reflexion pour joueur 1 :  0.06326401233673096  secondes\n",
      "Temps moyen de reflexion pour joueur 2 :  0.0  secondes\n",
      "\n",
      "Profondeur Minimax =  4\n",
      "Temps de la partie :  1.1762621402740479  secondes\n",
      "Nb coups joues :  7  coups\n",
      "Temps moyen de reflexion pour joueur 1 :  0.29406553506851196  secondes\n",
      "Temps moyen de reflexion pour joueur 2 :  0.0  secondes\n",
      "\n",
      "Profondeur Minimax =  5\n",
      "Temps de la partie :  4.252594709396362  secondes\n",
      "Nb coups joues :  7  coups\n",
      "Temps moyen de reflexion pour joueur 1 :  1.0631486773490906  secondes\n",
      "Temps moyen de reflexion pour joueur 2 :  0.0  secondes\n"
     ]
    }
   ],
   "source": [
    "profondeur1= 2\n",
    "print(\"Profondeur Minimax = \",profondeur1)\n",
    "winner, configFinale = tempExecSurUnepartie(game,strategie1=StrategieMiniMax,strategie2=StrategieAleatoire,AffichageTemps=True)\n",
    "print()\n",
    "profondeur1= 3\n",
    "print(\"Profondeur Minimax = \",profondeur1)\n",
    "winner, configFinale = tempExecSurUnepartie(game,strategie1=StrategieMiniMax,strategie2=StrategieAleatoire,AffichageTemps=True)\n",
    "print()\n",
    "profondeur1= 4\n",
    "print(\"Profondeur Minimax = \",profondeur1)\n",
    "winner, configFinale = tempExecSurUnepartie(game,strategie1=StrategieMiniMax,strategie2=StrategieAleatoire,AffichageTemps=True)\n",
    "print()\n",
    "profondeur1= 5\n",
    "print(\"Profondeur Minimax = \",profondeur1)\n",
    "winner, configFinale = tempExecSurUnepartie(game,strategie1=StrategieMiniMax,strategie2=StrategieAleatoire,AffichageTemps=True)"
   ]
  },
  {
   "cell_type": "markdown",
   "id": "1a99f183",
   "metadata": {},
   "source": [
    "Le temps d'exécution augmente avec la profondeur. \n",
    "\n",
    "C'est attendu car le nombre de coups à évaluer est plus élevé."
   ]
  },
  {
   "cell_type": "markdown",
   "id": "3391123d",
   "metadata": {},
   "source": [
    "#### Faceoff du Minimax face à l'aléatoire et un Minimax de profondeur equivalente"
   ]
  },
  {
   "cell_type": "code",
   "execution_count": 25,
   "id": "111a0903",
   "metadata": {},
   "outputs": [
    {
     "name": "stdout",
     "output_type": "stream",
     "text": [
      "+----- Faceoff du  StrategieMiniMax  sur le  Morpion  -----+\n",
      "+-----  StrategieMiniMax  VS  StrategieAleatoire  -----+\n",
      "StrategieMiniMax  Victoire(s) :  20 / 20  Defaite(s) :  0 / 20  Nul(s) :  0 / 20  en position de J1\n",
      "StrategieMiniMax  Victoire(s) :  20 / 20  Defaite(s) :  0 / 20  Nul(s) :  0 / 20  en position de J2\n",
      "+------------------------------------------------+\n",
      "+----- Faceoff du  StrategieMiniMax  sur le  Morpion  -----+\n",
      "+-----  StrategieMiniMax  VS  StrategieMiniMax  -----+\n",
      "StrategieMiniMax  Victoire(s) :  0 / 20  Defaite(s) :  0 / 20  Nul(s) :  20 / 20  en position de J1\n",
      "StrategieMiniMax  Victoire(s) :  0 / 20  Defaite(s) :  0 / 20  Nul(s) :  20 / 20  en position de J2\n",
      "+------------------------------------------------+\n"
     ]
    }
   ],
   "source": [
    "nbparties =20\n",
    "profondeur1= 2\n",
    "profondeur2= 2\n",
    "faceoff(game,nbparties,strategie1=StrategieMiniMax,listAdv=listAdversaires,strat1Str=\"StrategieMiniMax\",advStr=adversairesNoms,AfficheMin=False,AfficheMax=False)"
   ]
  },
  {
   "cell_type": "code",
   "execution_count": 28,
   "id": "28558a0a",
   "metadata": {},
   "outputs": [
    {
     "name": "stdout",
     "output_type": "stream",
     "text": [
      "+----- Faceoff du  StrategieMiniMax  sur le  Morpion  -----+\n",
      "+-----  StrategieMiniMax  VS  StrategieAleatoire  -----+\n",
      "StrategieMiniMax  Victoire(s) :  20 / 20  Defaite(s) :  0 / 20  Nul(s) :  0 / 20  en position de J1\n",
      "StrategieMiniMax  Victoire(s) :  20 / 20  Defaite(s) :  0 / 20  Nul(s) :  0 / 20  en position de J2\n",
      "+------------------------------------------------+\n",
      "+----- Faceoff du  StrategieMiniMax  sur le  Morpion  -----+\n",
      "+-----  StrategieMiniMax  VS  StrategieMiniMax  -----+\n",
      "StrategieMiniMax  Victoire(s) :  0 / 20  Defaite(s) :  0 / 20  Nul(s) :  20 / 20  en position de J1\n",
      "StrategieMiniMax  Victoire(s) :  0 / 20  Defaite(s) :  0 / 20  Nul(s) :  20 / 20  en position de J2\n",
      "+------------------------------------------------+\n"
     ]
    }
   ],
   "source": [
    "profondeur1= 3\n",
    "profondeur2= 3\n",
    "faceoff(game,nbparties,strategie1=StrategieMiniMax,listAdv=listAdversaires,strat1Str=\"StrategieMiniMax\",advStr=adversairesNoms,AfficheMin=False,AfficheMax=False)"
   ]
  },
  {
   "cell_type": "code",
   "execution_count": 29,
   "id": "c19c7563",
   "metadata": {},
   "outputs": [
    {
     "name": "stdout",
     "output_type": "stream",
     "text": [
      "+----- Faceoff du  StrategieMiniMax  sur le  Morpion  -----+\n",
      "+-----  StrategieMiniMax  VS  StrategieAleatoire  -----+\n",
      "StrategieMiniMax  Victoire(s) :  20 / 20  Defaite(s) :  0 / 20  Nul(s) :  0 / 20  en position de J1\n",
      "StrategieMiniMax  Victoire(s) :  13 / 20  Defaite(s) :  0 / 20  Nul(s) :  7 / 20  en position de J2\n",
      "+------------------------------------------------+\n",
      "+----- Faceoff du  StrategieMiniMax  sur le  Morpion  -----+\n",
      "+-----  StrategieMiniMax  VS  StrategieMiniMax  -----+\n",
      "StrategieMiniMax  Victoire(s) :  0 / 20  Defaite(s) :  0 / 20  Nul(s) :  20 / 20  en position de J1\n",
      "StrategieMiniMax  Victoire(s) :  0 / 20  Defaite(s) :  0 / 20  Nul(s) :  20 / 20  en position de J2\n",
      "+------------------------------------------------+\n"
     ]
    }
   ],
   "source": [
    "profondeur1= 4\n",
    "profondeur2= 4\n",
    "faceoff(game,nbparties,strategie1=StrategieMiniMax,listAdv=listAdversaires,strat1Str=\"StrategieMiniMax\",advStr=adversairesNoms,AfficheMin=False,AfficheMax=False)"
   ]
  },
  {
   "cell_type": "markdown",
   "id": "442c5d01",
   "metadata": {},
   "source": [
    "On observe ici bien le fait qu'à profondeur égale deux MiniMax feront toujours match nul. On peut supposer que face à l'aléatoire la présence de nuls en J2 vient du fait qu'au morpion le joueur 1 est avantagé car il pose en premier."
   ]
  },
  {
   "cell_type": "markdown",
   "id": "0743683e",
   "metadata": {},
   "source": [
    "#### MiniMax a profondeur différentes"
   ]
  },
  {
   "cell_type": "markdown",
   "id": "f1efba75",
   "metadata": {},
   "source": [
    "On teste ici pour voir au Morpion si la différence de profondeur entraine des performances différentes en termes de taux de victoires"
   ]
  },
  {
   "cell_type": "code",
   "execution_count": 30,
   "id": "92d47416",
   "metadata": {},
   "outputs": [
    {
     "name": "stdout",
     "output_type": "stream",
     "text": [
      "+----- Faceoff du  StrategieMiniMax  sur le  Morpion  -----+\n",
      "+-----  StrategieMiniMax  VS  StrategieAleatoire  -----+\n",
      "StrategieMiniMax  Victoire(s) :  20 / 20  Defaite(s) :  0 / 20  Nul(s) :  0 / 20  en position de J1\n",
      "StrategieMiniMax  Victoire(s) :  17 / 20  Defaite(s) :  0 / 20  Nul(s) :  3 / 20  en position de J2\n",
      "+------------------------------------------------+\n",
      "+----- Faceoff du  StrategieMiniMax  sur le  Morpion  -----+\n",
      "+-----  StrategieMiniMax  VS  StrategieMiniMax  -----+\n",
      "StrategieMiniMax  Victoire(s) :  0 / 20  Defaite(s) :  0 / 20  Nul(s) :  20 / 20  en position de J1\n",
      "StrategieMiniMax  Victoire(s) :  0 / 20  Defaite(s) :  0 / 20  Nul(s) :  20 / 20  en position de J2\n",
      "+------------------------------------------------+\n"
     ]
    }
   ],
   "source": [
    "nbparties =20\n",
    "profondeur1= 1\n",
    "profondeur2= 2\n",
    "faceoff(game,nbparties,strategie1=StrategieMiniMax,listAdv=listAdversaires,strat1Str=\"StrategieMiniMax\",advStr=adversairesNoms,AfficheMin=False,AfficheMax=False)"
   ]
  },
  {
   "cell_type": "code",
   "execution_count": 31,
   "id": "49a5b3b4",
   "metadata": {},
   "outputs": [
    {
     "name": "stdout",
     "output_type": "stream",
     "text": [
      "+----- Faceoff du  StrategieMiniMax  sur le  Morpion  -----+\n",
      "+-----  StrategieMiniMax  VS  StrategieAleatoire  -----+\n",
      "StrategieMiniMax  Victoire(s) :  20 / 20  Defaite(s) :  0 / 20  Nul(s) :  0 / 20  en position de J1\n",
      "StrategieMiniMax  Victoire(s) :  19 / 20  Defaite(s) :  0 / 20  Nul(s) :  1 / 20  en position de J2\n",
      "+------------------------------------------------+\n",
      "+----- Faceoff du  StrategieMiniMax  sur le  Morpion  -----+\n",
      "+-----  StrategieMiniMax  VS  StrategieMiniMax  -----+\n",
      "StrategieMiniMax  Victoire(s) :  0 / 20  Defaite(s) :  0 / 20  Nul(s) :  20 / 20  en position de J1\n",
      "StrategieMiniMax  Victoire(s) :  0 / 20  Defaite(s) :  0 / 20  Nul(s) :  20 / 20  en position de J2\n",
      "+------------------------------------------------+\n"
     ]
    }
   ],
   "source": [
    "nbparties =20\n",
    "profondeur1= 2\n",
    "profondeur2= 4\n",
    "faceoff(game,nbparties,strategie1=StrategieMiniMax,listAdv=listAdversaires,strat1Str=\"StrategieMiniMax\",advStr=adversairesNoms,AfficheMin=False,AfficheMax=False)"
   ]
  },
  {
   "cell_type": "code",
   "execution_count": 32,
   "id": "406470d2",
   "metadata": {},
   "outputs": [
    {
     "name": "stdout",
     "output_type": "stream",
     "text": [
      "+----- Faceoff du  StrategieMiniMax  sur le  Morpion  -----+\n",
      "+-----  StrategieMiniMax  VS  StrategieAleatoire  -----+\n",
      "StrategieMiniMax  Victoire(s) :  20 / 20  Defaite(s) :  0 / 20  Nul(s) :  0 / 20  en position de J1\n",
      "StrategieMiniMax  Victoire(s) :  15 / 20  Defaite(s) :  0 / 20  Nul(s) :  5 / 20  en position de J2\n",
      "+------------------------------------------------+\n",
      "+----- Faceoff du  StrategieMiniMax  sur le  Morpion  -----+\n",
      "+-----  StrategieMiniMax  VS  StrategieMiniMax  -----+\n",
      "StrategieMiniMax  Victoire(s) :  0 / 20  Defaite(s) :  0 / 20  Nul(s) :  20 / 20  en position de J1\n",
      "StrategieMiniMax  Victoire(s) :  0 / 20  Defaite(s) :  0 / 20  Nul(s) :  20 / 20  en position de J2\n",
      "+------------------------------------------------+\n"
     ]
    }
   ],
   "source": [
    "nbparties =20\n",
    "profondeur1= 4\n",
    "profondeur2= 6\n",
    "faceoff(game,nbparties,strategie1=StrategieMiniMax,listAdv=listAdversaires,strat1Str=\"StrategieMiniMax\",advStr=adversairesNoms,AfficheMin=False,AfficheMax=False)"
   ]
  },
  {
   "cell_type": "markdown",
   "id": "40cdb757",
   "metadata": {},
   "source": [
    "On observe que face à un autre MiniMax la profondeur des joueurs n'influe pas sur leur chances de victoires.\n",
    "\n",
    "On aurait pu supposer que cela permette de limiter les nuls face à l'aléatoire mais il n'est pas possible de vérifier cela car l'aléatoire aurait pu \"mieux jouer\" ou \"mal jouer\" en fonction des exécutions."
   ]
  },
  {
   "cell_type": "markdown",
   "id": "a7abb27c",
   "metadata": {},
   "source": [
    "### Jeu des Allumettes"
   ]
  },
  {
   "cell_type": "code",
   "execution_count": 39,
   "id": "587c4e68",
   "metadata": {},
   "outputs": [],
   "source": [
    "game=\"Allumettes\" \n",
    "listAdversaires= [StrategieAleatoire,StrategieMiniMax,StrategieAllumettes]\n",
    "adversairesNoms=[\"StrategieAleatoire\",\"StrategieMiniMax\",\"StrategieAllumettes\"]\n",
    "\n",
    "profondeur1 = 2\n",
    "profondeur2 = 2"
   ]
  },
  {
   "cell_type": "markdown",
   "id": "92ccc93d",
   "metadata": {},
   "source": [
    "#### Aléatoire vs Aléatoire temps d'exec et performances face à Aléatoire et Minimax 2"
   ]
  },
  {
   "cell_type": "code",
   "execution_count": 35,
   "id": "0f6502c8",
   "metadata": {},
   "outputs": [
    {
     "name": "stdout",
     "output_type": "stream",
     "text": [
      "Temps de la partie :  0.0  secondes\n",
      "Nb coups joues :  11  coups\n",
      "Temps moyen de reflexion pour joueur 1 :  0.0  secondes\n",
      "Temps moyen de reflexion pour joueur 2 :  0.0  secondes\n"
     ]
    }
   ],
   "source": [
    "winner, configFinale = tempExecSurUnepartie(game,strategie1=StrategieAleatoire,strategie2=StrategieAleatoire,AffichageTemps=True)"
   ]
  },
  {
   "cell_type": "code",
   "execution_count": 38,
   "id": "dd9e2497",
   "metadata": {},
   "outputs": [
    {
     "name": "stdout",
     "output_type": "stream",
     "text": [
      "+----- Faceoff du  StrategieAleatoire  sur le  Allumettes  -----+\n",
      "+-----  StrategieAleatoire  VS  StrategieAleatoire  -----+\n",
      "StrategieAleatoire  Victoire(s) :  9 / 20  Defaite(s) :  11 / 20  Nul(s) :  0 / 20  en position de J1\n",
      "StrategieAleatoire  Victoire(s) :  9 / 20  Defaite(s) :  11 / 20  Nul(s) :  0 / 20  en position de J2\n",
      "+------------------------------------------------+\n",
      "+----- Faceoff du  StrategieAleatoire  sur le  Allumettes  -----+\n",
      "+-----  StrategieAleatoire  VS  StrategieMiniMax  -----+\n",
      "StrategieAleatoire  Victoire(s) :  7 / 20  Defaite(s) :  13 / 20  Nul(s) :  0 / 20  en position de J1\n",
      "StrategieAleatoire  Victoire(s) :  12 / 20  Defaite(s) :  8 / 20  Nul(s) :  0 / 20  en position de J2\n",
      "+------------------------------------------------+\n",
      "+----- Faceoff du  StrategieAleatoire  sur le  Allumettes  -----+\n",
      "+-----  StrategieAleatoire  VS  StrategieAllumettes  -----+\n",
      "StrategieAleatoire  Victoire(s) :  0 / 20  Defaite(s) :  20 / 20  Nul(s) :  0 / 20  en position de J1\n",
      "StrategieAleatoire  Victoire(s) :  0 / 20  Defaite(s) :  20 / 20  Nul(s) :  0 / 20  en position de J2\n",
      "+------------------------------------------------+\n"
     ]
    }
   ],
   "source": [
    "nbparties =20\n",
    "faceoff(game,nbparties,strategie1=StrategieAleatoire,listAdv=listAdversaires,strat1Str=\"StrategieAleatoire\",advStr=adversairesNoms,AfficheMin=False,AfficheMax=False)"
   ]
  },
  {
   "cell_type": "markdown",
   "id": "97b8dea4",
   "metadata": {},
   "source": [
    "Contrairement au jeu du Morpion, la stratégie aléatoire a plus de chance de gagner contre Minimax, mais perd à 100% contre la stratégie optimale."
   ]
  },
  {
   "cell_type": "markdown",
   "id": "a0f0dc22",
   "metadata": {},
   "source": [
    "#### Minimax 2,3,4,5 vs Aléatoire temps d'exec "
   ]
  },
  {
   "cell_type": "code",
   "execution_count": 40,
   "id": "3316d5b5",
   "metadata": {},
   "outputs": [
    {
     "name": "stdout",
     "output_type": "stream",
     "text": [
      "Profondeur Minimax =  2\n",
      "Temps de la partie :  0.4110908508300781  secondes\n",
      "Nb coups joues :  11  coups\n",
      "Temps moyen de reflexion pour joueur 1 :  0.06851514180501302  secondes\n",
      "Temps moyen de reflexion pour joueur 2 :  0.0  secondes\n",
      "\n",
      "Profondeur Minimax =  3\n",
      "Temps de la partie :  9.266072034835815  secondes\n",
      "Nb coups joues :  15  coups\n",
      "Temps moyen de reflexion pour joueur 1 :  1.158259004354477  secondes\n",
      "Temps moyen de reflexion pour joueur 2 :  0.0  secondes\n",
      "\n",
      "Profondeur Minimax =  4\n",
      "Temps de la partie :  62.12297034263611  secondes\n",
      "Nb coups joues :  12  coups\n",
      "Temps moyen de reflexion pour joueur 1 :  10.353828390439352  secondes\n",
      "Temps moyen de reflexion pour joueur 2 :  0.0  secondes\n",
      "\n",
      "Profondeur Minimax =  5\n",
      "Temps de la partie :  1382.8037004470825  secondes\n",
      "Nb coups joues :  16  coups\n",
      "Temps moyen de reflexion pour joueur 1 :  172.85046255588531  secondes\n",
      "Temps moyen de reflexion pour joueur 2 :  0.0  secondes\n"
     ]
    }
   ],
   "source": [
    "profondeur1= 2\n",
    "print(\"Profondeur Minimax = \",profondeur1)\n",
    "winner, configFinale = tempExecSurUnepartie(game,strategie1=StrategieMiniMax,strategie2=StrategieAleatoire,AffichageTemps=True)\n",
    "print()\n",
    "profondeur1= 3\n",
    "print(\"Profondeur Minimax = \",profondeur1)\n",
    "winner, configFinale = tempExecSurUnepartie(game,strategie1=StrategieMiniMax,strategie2=StrategieAleatoire,AffichageTemps=True)\n",
    "print()\n",
    "profondeur1= 4\n",
    "print(\"Profondeur Minimax = \",profondeur1)\n",
    "winner, configFinale = tempExecSurUnepartie(game,strategie1=StrategieMiniMax,strategie2=StrategieAleatoire,AffichageTemps=True)\n",
    "print()\n",
    "profondeur1= 5\n",
    "print(\"Profondeur Minimax = \",profondeur1)\n",
    "winner, configFinale = tempExecSurUnepartie(game,strategie1=StrategieMiniMax,strategie2=StrategieAleatoire,AffichageTemps=True)"
   ]
  },
  {
   "cell_type": "markdown",
   "id": "34110447",
   "metadata": {},
   "source": [
    "#### Faceoff du Minimax face à l'aléatoire et un Minimax de profondeur equivalente"
   ]
  },
  {
   "cell_type": "code",
   "execution_count": 41,
   "id": "16980e19",
   "metadata": {},
   "outputs": [
    {
     "name": "stdout",
     "output_type": "stream",
     "text": [
      "+----- Faceoff du  StrategieMiniMax  sur le  Allumettes  -----+\n",
      "+-----  StrategieMiniMax  VS  StrategieAleatoire  -----+\n",
      "StrategieMiniMax  Victoire(s) :  4 / 20  Defaite(s) :  16 / 20  Nul(s) :  0 / 20  en position de J1\n",
      "StrategieMiniMax  Victoire(s) :  13 / 20  Defaite(s) :  7 / 20  Nul(s) :  0 / 20  en position de J2\n",
      "+------------------------------------------------+\n",
      "+----- Faceoff du  StrategieMiniMax  sur le  Allumettes  -----+\n",
      "+-----  StrategieMiniMax  VS  StrategieMiniMax  -----+\n",
      "StrategieMiniMax  Victoire(s) :  20 / 20  Defaite(s) :  0 / 20  Nul(s) :  0 / 20  en position de J1\n",
      "StrategieMiniMax  Victoire(s) :  0 / 20  Defaite(s) :  20 / 20  Nul(s) :  0 / 20  en position de J2\n",
      "+------------------------------------------------+\n",
      "+----- Faceoff du  StrategieMiniMax  sur le  Allumettes  -----+\n",
      "+-----  StrategieMiniMax  VS  StrategieAllumettes  -----+\n",
      "StrategieMiniMax  Victoire(s) :  0 / 20  Defaite(s) :  20 / 20  Nul(s) :  0 / 20  en position de J1\n",
      "StrategieMiniMax  Victoire(s) :  0 / 20  Defaite(s) :  20 / 20  Nul(s) :  0 / 20  en position de J2\n",
      "+------------------------------------------------+\n"
     ]
    }
   ],
   "source": [
    "nbparties =20\n",
    "profondeur1= 2\n",
    "profondeur2= 2\n",
    "faceoff(game,nbparties,strategie1=StrategieMiniMax,listAdv=listAdversaires,strat1Str=\"StrategieMiniMax\",advStr=adversairesNoms,AfficheMin=False,AfficheMax=False)"
   ]
  },
  {
   "cell_type": "code",
   "execution_count": 42,
   "id": "d3730efe",
   "metadata": {},
   "outputs": [
    {
     "name": "stdout",
     "output_type": "stream",
     "text": [
      "+----- Faceoff du  StrategieMiniMax  sur le  Allumettes  -----+\n",
      "+-----  StrategieMiniMax  VS  StrategieAleatoire  -----+\n",
      "StrategieMiniMax  Victoire(s) :  15 / 20  Defaite(s) :  5 / 20  Nul(s) :  0 / 20  en position de J1\n",
      "StrategieMiniMax  Victoire(s) :  8 / 20  Defaite(s) :  12 / 20  Nul(s) :  0 / 20  en position de J2\n",
      "+------------------------------------------------+\n",
      "+----- Faceoff du  StrategieMiniMax  sur le  Allumettes  -----+\n",
      "+-----  StrategieMiniMax  VS  StrategieMiniMax  -----+\n",
      "StrategieMiniMax  Victoire(s) :  0 / 20  Defaite(s) :  20 / 20  Nul(s) :  0 / 20  en position de J1\n",
      "StrategieMiniMax  Victoire(s) :  20 / 20  Defaite(s) :  0 / 20  Nul(s) :  0 / 20  en position de J2\n",
      "+------------------------------------------------+\n",
      "+----- Faceoff du  StrategieMiniMax  sur le  Allumettes  -----+\n",
      "+-----  StrategieMiniMax  VS  StrategieAllumettes  -----+\n",
      "StrategieMiniMax  Victoire(s) :  0 / 20  Defaite(s) :  20 / 20  Nul(s) :  0 / 20  en position de J1\n",
      "StrategieMiniMax  Victoire(s) :  1 / 20  Defaite(s) :  19 / 20  Nul(s) :  0 / 20  en position de J2\n",
      "+------------------------------------------------+\n"
     ]
    }
   ],
   "source": [
    "profondeur1= 3\n",
    "profondeur2= 3\n",
    "faceoff(game,nbparties,strategie1=StrategieMiniMax,listAdv=listAdversaires,strat1Str=\"StrategieMiniMax\",advStr=adversairesNoms,AfficheMin=False,AfficheMax=False)"
   ]
  },
  {
   "cell_type": "markdown",
   "id": "600a5888",
   "metadata": {},
   "source": [
    "On remarque que lorsqu'un Minimax est de profondeur paire, ses performance face à la stratégie optimale sont très mauvaises car c'est dû à la stratégie adverse qui fait que seul des situations perdantes remontent l'arbre du Minimax.\n",
    "Cependant face à un joueur impair, on observe une possibilité pour le joueur Minimax de gagner face à la stratégie optimale dans le cadre de 4 groupes de 7 allumettes. Cela s'explique par le début en noyau de la stratégie optimale qui se trouve alors dans une situation où elle peut perdre."
   ]
  },
  {
   "cell_type": "markdown",
   "id": "a2918168",
   "metadata": {},
   "source": [
    "#### MiniMax a profondeur différentes"
   ]
  },
  {
   "cell_type": "code",
   "execution_count": 43,
   "id": "6876d536",
   "metadata": {},
   "outputs": [
    {
     "name": "stdout",
     "output_type": "stream",
     "text": [
      "+----- Faceoff du  StrategieMiniMax  sur le  Allumettes  -----+\n",
      "+-----  StrategieMiniMax  VS  StrategieAleatoire  -----+\n",
      "StrategieMiniMax  Victoire(s) :  18 / 20  Defaite(s) :  2 / 20  Nul(s) :  0 / 20  en position de J1\n",
      "StrategieMiniMax  Victoire(s) :  14 / 20  Defaite(s) :  6 / 20  Nul(s) :  0 / 20  en position de J2\n",
      "+------------------------------------------------+\n",
      "+----- Faceoff du  StrategieMiniMax  sur le  Allumettes  -----+\n",
      "+-----  StrategieMiniMax  VS  StrategieMiniMax  -----+\n",
      "StrategieMiniMax  Victoire(s) :  20 / 20  Defaite(s) :  0 / 20  Nul(s) :  0 / 20  en position de J1\n",
      "StrategieMiniMax  Victoire(s) :  0 / 20  Defaite(s) :  20 / 20  Nul(s) :  0 / 20  en position de J2\n",
      "+------------------------------------------------+\n",
      "+----- Faceoff du  StrategieMiniMax  sur le  Allumettes  -----+\n",
      "+-----  StrategieMiniMax  VS  StrategieAllumettes  -----+\n",
      "StrategieMiniMax  Victoire(s) :  0 / 20  Defaite(s) :  20 / 20  Nul(s) :  0 / 20  en position de J1\n",
      "StrategieMiniMax  Victoire(s) :  0 / 20  Defaite(s) :  20 / 20  Nul(s) :  0 / 20  en position de J2\n",
      "+------------------------------------------------+\n"
     ]
    }
   ],
   "source": [
    "nbparties =20\n",
    "profondeur1= 1\n",
    "profondeur2= 2\n",
    "faceoff(game,nbparties,strategie1=StrategieMiniMax,listAdv=listAdversaires,strat1Str=\"StrategieMiniMax\",advStr=adversairesNoms,AfficheMin=False,AfficheMax=False)"
   ]
  },
  {
   "cell_type": "code",
   "execution_count": 45,
   "id": "bdab47e1",
   "metadata": {},
   "outputs": [
    {
     "name": "stdout",
     "output_type": "stream",
     "text": [
      "+----- Faceoff du  StrategieMiniMax  sur le  Allumettes  -----+\n",
      "+-----  StrategieMiniMax  VS  StrategieAleatoire  -----+\n",
      "StrategieMiniMax  Victoire(s) :  7 / 20  Defaite(s) :  13 / 20  Nul(s) :  0 / 20  en position de J1\n",
      "StrategieMiniMax  Victoire(s) :  6 / 20  Defaite(s) :  14 / 20  Nul(s) :  0 / 20  en position de J2\n",
      "+------------------------------------------------+\n",
      "+----- Faceoff du  StrategieMiniMax  sur le  Allumettes  -----+\n",
      "+-----  StrategieMiniMax  VS  StrategieMiniMax  -----+\n",
      "StrategieMiniMax  Victoire(s) :  20 / 20  Defaite(s) :  0 / 20  Nul(s) :  0 / 20  en position de J1\n",
      "StrategieMiniMax  Victoire(s) :  0 / 20  Defaite(s) :  20 / 20  Nul(s) :  0 / 20  en position de J2\n",
      "+------------------------------------------------+\n",
      "+----- Faceoff du  StrategieMiniMax  sur le  Allumettes  -----+\n",
      "+-----  StrategieMiniMax  VS  StrategieAllumettes  -----+\n",
      "StrategieMiniMax  Victoire(s) :  0 / 20  Defaite(s) :  20 / 20  Nul(s) :  0 / 20  en position de J1\n",
      "StrategieMiniMax  Victoire(s) :  2 / 20  Defaite(s) :  18 / 20  Nul(s) :  0 / 20  en position de J2\n",
      "+------------------------------------------------+\n"
     ]
    }
   ],
   "source": [
    "nbparties =20\n",
    "profondeur1= 3\n",
    "profondeur2= 1\n",
    "faceoff(game,nbparties,strategie1=StrategieMiniMax,listAdv=listAdversaires,strat1Str=\"StrategieMiniMax\",advStr=adversairesNoms,AfficheMin=False,AfficheMax=False)"
   ]
  },
  {
   "cell_type": "markdown",
   "id": "14824269",
   "metadata": {},
   "source": [
    "La victoire est absolut pour Minimax en jouant en première, même en changeant la profondeur."
   ]
  },
  {
   "cell_type": "markdown",
   "id": "88f6a027",
   "metadata": {},
   "source": [
    "#### Stratégie optimale du jeu des Allumettes\n",
    "##### StrategieAllumettes vs Aléatoire temps d'exec"
   ]
  },
  {
   "cell_type": "code",
   "execution_count": 46,
   "id": "4fbd9368",
   "metadata": {},
   "outputs": [
    {
     "name": "stdout",
     "output_type": "stream",
     "text": [
      "Temps de la partie :  0.0  secondes\n",
      "Nb coups joues :  12  coups\n",
      "Temps moyen de reflexion pour joueur 1 :  0.0  secondes\n",
      "Temps de construction du Grundy pour joueur 1 : 5.288050413131714  secondes\n",
      "Temps moyen de reflexion pour joueur 2 :  0.0  secondes\n"
     ]
    }
   ],
   "source": [
    "winner, configFinale = tempExecSurUnepartie(game,strategie1=StrategieAllumettes,strategie2=StrategieAleatoire,AffichageTemps=True)"
   ]
  },
  {
   "cell_type": "markdown",
   "id": "9f884213",
   "metadata": {},
   "source": [
    "##### Performances face aux autres joueurs  avec MiniMax 1"
   ]
  },
  {
   "cell_type": "code",
   "execution_count": 47,
   "id": "9d87cc7b",
   "metadata": {},
   "outputs": [
    {
     "name": "stdout",
     "output_type": "stream",
     "text": [
      "+----- Faceoff du  StrategieAllumettes  sur le  Allumettes  -----+\n",
      "+-----  StrategieAllumettes  VS  StrategieAleatoire  -----+\n",
      "StrategieAllumettes  Victoire(s) :  20 / 20  Defaite(s) :  0 / 20  Nul(s) :  0 / 20  en position de J1\n",
      "StrategieAllumettes  Victoire(s) :  20 / 20  Defaite(s) :  0 / 20  Nul(s) :  0 / 20  en position de J2\n",
      "+------------------------------------------------+\n",
      "+----- Faceoff du  StrategieAllumettes  sur le  Allumettes  -----+\n",
      "+-----  StrategieAllumettes  VS  StrategieMiniMax  -----+\n",
      "StrategieAllumettes  Victoire(s) :  17 / 20  Defaite(s) :  3 / 20  Nul(s) :  0 / 20  en position de J1\n",
      "StrategieAllumettes  Victoire(s) :  20 / 20  Defaite(s) :  0 / 20  Nul(s) :  0 / 20  en position de J2\n",
      "+------------------------------------------------+\n",
      "+----- Faceoff du  StrategieAllumettes  sur le  Allumettes  -----+\n",
      "+-----  StrategieAllumettes  VS  StrategieAllumettes  -----+\n",
      "StrategieAllumettes  Victoire(s) :  0 / 20  Defaite(s) :  20 / 20  Nul(s) :  0 / 20  en position de J1\n",
      "StrategieAllumettes  Victoire(s) :  20 / 20  Defaite(s) :  0 / 20  Nul(s) :  0 / 20  en position de J2\n",
      "+------------------------------------------------+\n"
     ]
    }
   ],
   "source": [
    "nbparties =20\n",
    "profondeur1= 1\n",
    "profondeur2= 1\n",
    "faceoff(game,nbparties,strategie1=StrategieAllumettes,listAdv=listAdversaires,strat1Str=\"StrategieAllumettes\",advStr=adversairesNoms,AfficheMin=False,AfficheMax=False)"
   ]
  },
  {
   "cell_type": "markdown",
   "id": "5e4f6ac1",
   "metadata": {},
   "source": [
    "En remarque bien que comme l'état initial est un noyau il perd toujours contre la stratégie optimale lorsqu'il commence en première et l'inverse en changeant l'ordre.\n",
    "\n",
    "Mais contre les autres stratégies il a un très grande taux de victoire."
   ]
  }
 ],
 "metadata": {
  "kernelspec": {
   "display_name": "Python 3 (ipykernel)",
   "language": "python",
   "name": "python3"
  },
  "language_info": {
   "codemirror_mode": {
    "name": "ipython",
    "version": 3
   },
   "file_extension": ".py",
   "mimetype": "text/x-python",
   "name": "python",
   "nbconvert_exporter": "python",
   "pygments_lexer": "ipython3",
   "version": "3.10.11"
  }
 },
 "nbformat": 4,
 "nbformat_minor": 5
}
